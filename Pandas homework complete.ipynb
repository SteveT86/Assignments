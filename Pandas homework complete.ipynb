{
 "cells": [
  {
   "cell_type": "markdown",
   "id": "d1e5a1ee",
   "metadata": {},
   "source": [
    "<h1>Tackling an open problem</h1>\n",
    "\n",
    "For this homework the idea is to hone our skills on exploring and plotting a dataset. You can either work with the Pokemon dataset that was given or download your own. If you opt to download your own I recommend you use one of the datasets available on kaggle,\n",
    "\n",
    "https://www.kaggle.com/datasets\n",
    "\n",
    "As they tend to be found in a clean format and are generally free to use.\n",
    "\n",
    "Largely, the main objective is learning how to search the internet for new implementations you want to use on your code helping you develop your self-confidence.\n",
    "\n",
    "There's no right or wrong, pick a dataset you enjoy and try to have some fun.\n",
    "If you need, use the notebook from the previous session as a guideline.\n"
   ]
  },
  {
   "cell_type": "code",
   "execution_count": 3,
   "id": "383c1464",
   "metadata": {},
   "outputs": [],
   "source": [
    "import pandas as pd"
   ]
  },
  {
   "cell_type": "code",
   "execution_count": 5,
   "id": "4cbfa906-2b7d-4d2d-9eb7-631c58ea0886",
   "metadata": {},
   "outputs": [],
   "source": [
    "import matplotlib.pyplot as plt"
   ]
  },
  {
   "cell_type": "code",
   "execution_count": 7,
   "id": "84f6fa70-b683-4325-8072-16c8305140b5",
   "metadata": {},
   "outputs": [],
   "source": [
    "import numpy as np"
   ]
  },
  {
   "cell_type": "code",
   "execution_count": 19,
   "id": "07fa6813-dc9d-4c0c-bf0c-f2ef3b8b2d61",
   "metadata": {},
   "outputs": [],
   "source": [
    "df = pd.read_csv (\"smite_items.csv\")"
   ]
  },
  {
   "cell_type": "code",
   "execution_count": 35,
   "id": "1ec9f1dd-f645-4a55-b7a6-449f5e749727",
   "metadata": {},
   "outputs": [
    {
     "data": {
      "text/plain": [
       "(261, 7)"
      ]
     },
     "execution_count": 35,
     "metadata": {},
     "output_type": "execute_result"
    }
   ],
   "source": [
    "df.shape"
   ]
  },
  {
   "cell_type": "code",
   "execution_count": 39,
   "id": "577b52ba-b993-4acd-af40-bc85ac6adeaf",
   "metadata": {},
   "outputs": [
    {
     "name": "stdout",
     "output_type": "stream",
     "text": [
      "              Item                               Item_Type Item_Tier   Cost  \\\n",
      "0  Sentinel's Gift             Starter, Defensive, Utility    Tier 1  550.0   \n",
      "1      Benevolence             Starter, Defensive, Utility    Tier 1  600.0   \n",
      "2   Bumba's Dagger             Starter, Defensive, Utility    Tier 1  600.0   \n",
      "3    Tainted Steel           Starter, Offensive, Defensive    Tier 1  600.0   \n",
      "4         War Flag  Starter, Offensive, Defensive, Utility    Tier 1  600.0   \n",
      "\n",
      "   Total_Cost                                              Stats  \\\n",
      "0         NaN  +10 Physical Protection +10 Magical Protection...   \n",
      "1         NaN                         +75 Health +10 MP5 +10 HP5   \n",
      "2         NaN  +13 Physical Power +25 Magical Power +50 Healt...   \n",
      "3         NaN  +15 Physical Power +25 Magical Power +15 Physi...   \n",
      "4         NaN  +10 Physical Protection +10 Magical Protection...   \n",
      "\n",
      "                                      Passive_Effect  \n",
      "0  Getting the assist for an enemy minion or jung...  \n",
      "1  While not near an ally god you gain 1 stack of...  \n",
      "2  Your Basic Attacks deal +25 True Damage and yo...  \n",
      "3  Enemy Gods that you hit have their healing tak...  \n",
      "4  Getting the assist for an enemy minion or jung...  \n"
     ]
    }
   ],
   "source": [
    "#this is really hard to read!!!\n",
    "print (df.head())"
   ]
  },
  {
   "cell_type": "code",
   "execution_count": 63,
   "id": "dc0edacb-b01e-423a-8d73-c3477e13a2d9",
   "metadata": {},
   "outputs": [
    {
     "data": {
      "text/html": [
       "<div>\n",
       "<style scoped>\n",
       "    .dataframe tbody tr th:only-of-type {\n",
       "        vertical-align: middle;\n",
       "    }\n",
       "\n",
       "    .dataframe tbody tr th {\n",
       "        vertical-align: top;\n",
       "    }\n",
       "\n",
       "    .dataframe thead th {\n",
       "        text-align: right;\n",
       "    }\n",
       "</style>\n",
       "<table border=\"1\" class=\"dataframe\">\n",
       "  <thead>\n",
       "    <tr style=\"text-align: right;\">\n",
       "      <th></th>\n",
       "      <th>Item</th>\n",
       "      <th>Item_Type</th>\n",
       "      <th>Item_Tier</th>\n",
       "      <th>Cost</th>\n",
       "      <th>Total_Cost</th>\n",
       "      <th>Stats</th>\n",
       "      <th>Passive_Effect</th>\n",
       "    </tr>\n",
       "  </thead>\n",
       "  <tbody>\n",
       "    <tr>\n",
       "      <th>0</th>\n",
       "      <td>Sentinel's Gift</td>\n",
       "      <td>Starter, Defensive, Utility</td>\n",
       "      <td>Tier 1</td>\n",
       "      <td>550.0</td>\n",
       "      <td>NaN</td>\n",
       "      <td>+10 Physical Protection +10 Magical Protection +75 Health +7 MP5</td>\n",
       "      <td>Getting the assist for an enemy minion or jungle monster dying will provide 8 Bonus gold and restore 12 Health and 8 Mana. If you are not within 30 units of an allied god for 20 seconds this passive is disabled until you are near an allied god again. Can be upgraded at level 15.</td>\n",
       "    </tr>\n",
       "    <tr>\n",
       "      <th>1</th>\n",
       "      <td>Benevolence</td>\n",
       "      <td>Starter, Defensive, Utility</td>\n",
       "      <td>Tier 1</td>\n",
       "      <td>600.0</td>\n",
       "      <td>NaN</td>\n",
       "      <td>+75 Health +10 MP5 +10 HP5</td>\n",
       "      <td>While not near an ally god you gain 1 stack of Benevolence every second, up to a maximum of 50. Assists provide 4 stacks. While within 70 units of a hurt ally god you use up to 5 stacks a second to heal them and yourself for 0.6% of your Maximum Health. Each stack consumed provides you with 1 gold. If you overcap stacks they will still provide gold as long as you are near an ally god. Can be upgraded at level 15.</td>\n",
       "    </tr>\n",
       "    <tr>\n",
       "      <th>2</th>\n",
       "      <td>Bumba's Dagger</td>\n",
       "      <td>Starter, Defensive, Utility</td>\n",
       "      <td>Tier 1</td>\n",
       "      <td>600.0</td>\n",
       "      <td>NaN</td>\n",
       "      <td>+13 Physical Power +25 Magical Power +50 Health +50 Mana</td>\n",
       "      <td>Your Basic Attacks deal +25 True Damage and your Abilities deal +35% Damage versus Jungle Monsters. When a Jungle Monster is killed you are restored for 10% of the Monster's Health and 25 Mana. Can be upgraded at level 20.</td>\n",
       "    </tr>\n",
       "    <tr>\n",
       "      <th>3</th>\n",
       "      <td>Tainted Steel</td>\n",
       "      <td>Starter, Offensive, Defensive</td>\n",
       "      <td>Tier 1</td>\n",
       "      <td>600.0</td>\n",
       "      <td>NaN</td>\n",
       "      <td>+15 Physical Power +25 Magical Power +15 Physical Protection +15 Magical Protection</td>\n",
       "      <td>Enemy Gods that you hit have their healing taken reduced by 20% for 5s. You are healed for 120% of the healing reduced. Can be upgraded at level 20.</td>\n",
       "    </tr>\n",
       "    <tr>\n",
       "      <th>4</th>\n",
       "      <td>War Flag</td>\n",
       "      <td>Starter, Offensive, Defensive, Utility</td>\n",
       "      <td>Tier 1</td>\n",
       "      <td>600.0</td>\n",
       "      <td>NaN</td>\n",
       "      <td>+10 Physical Protection +10 Magical Protection +100 Health +10 MP5</td>\n",
       "      <td>Getting the assist for an enemy minion or jungle monster dying will provide 8 Bonus gold and restore 8 Health and 5 Mana. You and nearby allied gods also receive a stack that gives 1% Movement Speed and 2% Attack Speed for 10s to nearby allies up to 10 stacks. Can be upgraded at level 15.</td>\n",
       "    </tr>\n",
       "  </tbody>\n",
       "</table>\n",
       "</div>"
      ],
      "text/plain": [
       "              Item                               Item_Type Item_Tier   Cost  Total_Cost                                                                                Stats                                                                                                                                                                                                                                                                                                                                                                                                                    Passive_Effect\n",
       "0  Sentinel's Gift             Starter, Defensive, Utility    Tier 1  550.0         NaN                     +10 Physical Protection +10 Magical Protection +75 Health +7 MP5                                                                                                                                           Getting the assist for an enemy minion or jungle monster dying will provide 8 Bonus gold and restore 12 Health and 8 Mana. If you are not within 30 units of an allied god for 20 seconds this passive is disabled until you are near an allied god again. Can be upgraded at level 15.\n",
       "1      Benevolence             Starter, Defensive, Utility    Tier 1  600.0         NaN                                                           +75 Health +10 MP5 +10 HP5  While not near an ally god you gain 1 stack of Benevolence every second, up to a maximum of 50. Assists provide 4 stacks. While within 70 units of a hurt ally god you use up to 5 stacks a second to heal them and yourself for 0.6% of your Maximum Health. Each stack consumed provides you with 1 gold. If you overcap stacks they will still provide gold as long as you are near an ally god. Can be upgraded at level 15.\n",
       "2   Bumba's Dagger             Starter, Defensive, Utility    Tier 1  600.0         NaN                             +13 Physical Power +25 Magical Power +50 Health +50 Mana                                                                                                                                                                                                    Your Basic Attacks deal +25 True Damage and your Abilities deal +35% Damage versus Jungle Monsters. When a Jungle Monster is killed you are restored for 10% of the Monster's Health and 25 Mana. Can be upgraded at level 20.\n",
       "3    Tainted Steel           Starter, Offensive, Defensive    Tier 1  600.0         NaN  +15 Physical Power +25 Magical Power +15 Physical Protection +15 Magical Protection                                                                                                                                                                                                                                                                              Enemy Gods that you hit have their healing taken reduced by 20% for 5s. You are healed for 120% of the healing reduced. Can be upgraded at level 20.\n",
       "4         War Flag  Starter, Offensive, Defensive, Utility    Tier 1  600.0         NaN                   +10 Physical Protection +10 Magical Protection +100 Health +10 MP5                                                                                                                                 Getting the assist for an enemy minion or jungle monster dying will provide 8 Bonus gold and restore 8 Health and 5 Mana. You and nearby allied gods also receive a stack that gives 1% Movement Speed and 2% Attack Speed for 10s to nearby allies up to 10 stacks. Can be upgraded at level 15."
      ]
     },
     "metadata": {},
     "output_type": "display_data"
    },
    {
     "data": {
      "text/html": [
       "<div>\n",
       "<style scoped>\n",
       "    .dataframe tbody tr th:only-of-type {\n",
       "        vertical-align: middle;\n",
       "    }\n",
       "\n",
       "    .dataframe tbody tr th {\n",
       "        vertical-align: top;\n",
       "    }\n",
       "\n",
       "    .dataframe thead th {\n",
       "        text-align: right;\n",
       "    }\n",
       "</style>\n",
       "<table border=\"1\" class=\"dataframe\">\n",
       "  <thead>\n",
       "    <tr style=\"text-align: right;\">\n",
       "      <th></th>\n",
       "      <th>Item</th>\n",
       "      <th>Item_Type</th>\n",
       "      <th>Item_Tier</th>\n",
       "      <th>Cost</th>\n",
       "      <th>Total_Cost</th>\n",
       "      <th>Stats</th>\n",
       "      <th>Passive_Effect</th>\n",
       "    </tr>\n",
       "  </thead>\n",
       "  <tbody>\n",
       "    <tr>\n",
       "      <th>256</th>\n",
       "      <td>Evolved Prophetic Cloak</td>\n",
       "      <td>Defensive, Utility</td>\n",
       "      <td>Evolved</td>\n",
       "      <td>NaN</td>\n",
       "      <td>NaN</td>\n",
       "      <td>+40 Physical Protection +40 Magical Protection +100 Health +10% Cooldown Reduction</td>\n",
       "      <td>AURA - Allies within 70 units gain 20 Physical and Magical Protections. If you have over 325 total Protections, you gain 7.5% Damage Mitigation. If you have over 525 total Protections, you gain an additional 7.5% Damage Mitigation.</td>\n",
       "    </tr>\n",
       "    <tr>\n",
       "      <th>257</th>\n",
       "      <td>Evolved Rage</td>\n",
       "      <td>Offensive</td>\n",
       "      <td>Evolved</td>\n",
       "      <td>NaN</td>\n",
       "      <td>NaN</td>\n",
       "      <td>+45 Physical Power +45% Critical Strike Chance</td>\n",
       "      <td>NaN</td>\n",
       "    </tr>\n",
       "    <tr>\n",
       "      <th>258</th>\n",
       "      <td>Evolved Soul Eater</td>\n",
       "      <td>Offensive, Utility</td>\n",
       "      <td>Evolved</td>\n",
       "      <td>NaN</td>\n",
       "      <td>NaN</td>\n",
       "      <td>+50 Physical Power +15% Physical Lifesteal +10 Physical Penetration +10% Cooldown Reduction</td>\n",
       "      <td>Your abilities heal you for 15% of the damage dealt to targets.</td>\n",
       "    </tr>\n",
       "    <tr>\n",
       "      <th>259</th>\n",
       "      <td>Evolved Transcendence</td>\n",
       "      <td>Offensive, Utility</td>\n",
       "      <td>Evolved</td>\n",
       "      <td>NaN</td>\n",
       "      <td>NaN</td>\n",
       "      <td>+25 Physical Power +1050 Mana +10 MP5 +10 Physical Penetration</td>\n",
       "      <td>You gain Physical Power equal to 2% of your Maximum Mana.</td>\n",
       "    </tr>\n",
       "    <tr>\n",
       "      <th>260</th>\n",
       "      <td>Evolved Warlock's Staff</td>\n",
       "      <td>Offensive, Defensive, Utility</td>\n",
       "      <td>Evolved</td>\n",
       "      <td>NaN</td>\n",
       "      <td>NaN</td>\n",
       "      <td>+80 Magical Power +400 Health +200 Mana +10% Magical Penetration</td>\n",
       "      <td>NaN</td>\n",
       "    </tr>\n",
       "  </tbody>\n",
       "</table>\n",
       "</div>"
      ],
      "text/plain": [
       "                        Item                      Item_Type Item_Tier  Cost  Total_Cost                                                                                        Stats                                                                                                                                                                                                                           Passive_Effect\n",
       "256  Evolved Prophetic Cloak             Defensive, Utility   Evolved   NaN         NaN           +40 Physical Protection +40 Magical Protection +100 Health +10% Cooldown Reduction  AURA - Allies within 70 units gain 20 Physical and Magical Protections. If you have over 325 total Protections, you gain 7.5% Damage Mitigation. If you have over 525 total Protections, you gain an additional 7.5% Damage Mitigation.\n",
       "257             Evolved Rage                      Offensive   Evolved   NaN         NaN                                               +45 Physical Power +45% Critical Strike Chance                                                                                                                                                                                                                                      NaN\n",
       "258       Evolved Soul Eater             Offensive, Utility   Evolved   NaN         NaN  +50 Physical Power +15% Physical Lifesteal +10 Physical Penetration +10% Cooldown Reduction                                                                                                                                                                          Your abilities heal you for 15% of the damage dealt to targets.\n",
       "259    Evolved Transcendence             Offensive, Utility   Evolved   NaN         NaN                               +25 Physical Power +1050 Mana +10 MP5 +10 Physical Penetration                                                                                                                                                                                You gain Physical Power equal to 2% of your Maximum Mana.\n",
       "260  Evolved Warlock's Staff  Offensive, Defensive, Utility   Evolved   NaN         NaN                             +80 Magical Power +400 Health +200 Mana +10% Magical Penetration                                                                                                                                                                                                                                      NaN"
      ]
     },
     "metadata": {},
     "output_type": "display_data"
    }
   ],
   "source": [
    "# trying to remove truncation and see the 7 columns in 1 line \n",
    "pd.set_option('display.max_columns', None)\n",
    "pd.set_option('display.max_colwidth', None)\n",
    "from IPython.display import display\n",
    "display(df.head())\n",
    "display(df.tail())"
   ]
  },
  {
   "cell_type": "code",
   "execution_count": 69,
   "id": "4b218c87-87bb-4cc1-ba9e-1c11102ab007",
   "metadata": {},
   "outputs": [
    {
     "data": {
      "image/png": "[encoded data removed]",
      "text/plain": [
       "<Figure size 800x500 with 1 Axes>"
      ]
     },
     "metadata": {},
     "output_type": "display_data"
    }
   ],
   "source": [
    "# Plot the distribution of item tiers\n",
    "plt.figure(figsize=(8, 5))\n",
    "sns.countplot(data=df, x='Item_Tier', order=df['Item_Tier'].value_counts().index)\n",
    "plt.title('Distribution of Item Tiers')\n",
    "plt.xlabel('Item Tier')\n",
    "plt.ylabel('Count')\n",
    "plt.show()"
   ]
  },
  {
   "cell_type": "code",
   "execution_count": 75,
   "id": "0fa8d916-4d00-4312-ad4f-de638e52284f",
   "metadata": {},
   "outputs": [
    {
     "data": {
      "image/png": "[encoded data removed]",
      "text/plain": [
       "<Figure size 1000x600 with 1 Axes>"
      ]
     },
     "metadata": {},
     "output_type": "display_data"
    }
   ],
   "source": [
    "# Barplot of Average Cost by Item Tier\n",
    "# Evolved items have no cost as they \"evolve\" from a tier 3 item by completing a task in game i.e do x damage to enemy gods once the tier 3 is purchased\n",
    "plt.figure(figsize=(10, 6))\n",
    "average_cost_by_tier = df.groupby('Item_Tier')['Cost'].mean().sort_values(ascending=False)\n",
    "sns.barplot(x=average_cost_by_tier.index, y=average_cost_by_tier.values)\n",
    "plt.title('Average Cost by Item Tier')\n",
    "plt.xlabel('Item Tier')\n",
    "plt.ylabel('Average Cost')\n",
    "plt.show()"
   ]
  }
 ],
 "metadata": {
  "kernelspec": {
   "display_name": "Python 3 (ipykernel)",
   "language": "python",
   "name": "python3"
  },
  "language_info": {
   "codemirror_mode": {
    "name": "ipython",
    "version": 3
   },
   "file_extension": ".py",
   "mimetype": "text/x-python",
   "name": "python",
   "nbconvert_exporter": "python",
   "pygments_lexer": "ipython3",
   "version": "3.12.7"
  }
 },
 "nbformat": 4,
 "nbformat_minor": 5
}
